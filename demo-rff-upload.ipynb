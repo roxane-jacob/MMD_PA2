{
 "cells": [
  {
   "cell_type": "markdown",
   "metadata": {},
   "source": [
    "# Random Fourier Features (RFFs)"
   ]
  },
  {
   "cell_type": "code",
   "execution_count": 1,
   "metadata": {},
   "outputs": [],
   "source": [
    "%matplotlib inline\n",
    "import numpy as np\n",
    "import scipy\n",
    "import scipy.linalg\n",
    "import matplotlib.pyplot as plt\n",
    "from matplotlib import rcParams\n",
    "from ipywidgets import interact, interactive, fixed, interact_manual, FloatSlider, IntSlider, SelectionSlider, Dropdown\n",
    "\n",
    "rcParams['figure.figsize'] = (10,5)\n",
    "rcParams['font.size'] = 16"
   ]
  },
  {
   "cell_type": "markdown",
   "metadata": {},
   "source": [
    "## Setup kernel function"
   ]
  },
  {
   "cell_type": "code",
   "execution_count": 2,
   "metadata": {},
   "outputs": [],
   "source": [
    "class RBF:\n",
    "    def __init__(self, sigma):\n",
    "        self.sigma = sigma\n",
    "        \n",
    "    def __call__(self, delta):\n",
    "        return np.exp(-np.abs(delta)**2/(2*self.sigma**2))\n",
    "    \n",
    "    def get_sigma(self):\n",
    "        return self.sigma\n",
    "    \n",
    "    def sample_rffs(self, d):\n",
    "        w = 1/self.get_sigma() * np.random.randn(d)\n",
    "        b = 2*np.pi*np.random.rand(d)\n",
    "        return w, b\n",
    "    \n",
    "class Laplacian:\n",
    "    def __init__(self, sigma):\n",
    "        self.sigma = sigma\n",
    "        \n",
    "    def __call__(self, delta):\n",
    "        return np.exp(-np.abs(delta)/self.sigma)\n",
    "    \n",
    "    def get_sigma(self):\n",
    "        return self.sigma\n",
    "    \n",
    "    def sample_rffs(self, d):\n",
    "        w = 1/self.get_sigma() * np.random.standard_cauchy(d)\n",
    "        b = 2*np.pi*np.random.rand(d)\n",
    "        return w, b\n",
    "    \n",
    "k = RBF(sigma=1)"
   ]
  },
  {
   "cell_type": "markdown",
   "metadata": {},
   "source": [
    "## Plot kernel"
   ]
  },
  {
   "cell_type": "code",
   "execution_count": 3,
   "metadata": {},
   "outputs": [
    {
     "data": {
      "text/plain": [
       "Text(0.5, 0, '$\\\\Delta$')"
      ]
     },
     "execution_count": 3,
     "metadata": {},
     "output_type": "execute_result"
    },
    {
     "data": {
      "image/png": "[encoded data removed]",
      "text/plain": [
       "<Figure size 720x360 with 1 Axes>"
      ]
     },
     "metadata": {
      "needs_background": "light"
     },
     "output_type": "display_data"
    }
   ],
   "source": [
    "Delta = np.linspace(-5, 5, 100)\n",
    "        \n",
    "plt.plot(Delta, k(Delta), 'r-')\n",
    "plt.xlim(-5,5)\n",
    "plt.ylabel('$k(\\Delta)$')\n",
    "plt.xlabel('$\\Delta$')"
   ]
  },
  {
   "cell_type": "markdown",
   "metadata": {},
   "source": [
    "## Show approximation with RFFs"
   ]
  },
  {
   "cell_type": "code",
   "execution_count": 4,
   "metadata": {},
   "outputs": [
    {
     "data": {
      "application/vnd.jupyter.widget-view+json": {
       "model_id": "d0e1997dca794198b2fe9f94e5eed0ff",
       "version_major": 2,
       "version_minor": 0
      },
      "text/plain": [
       "interactive(children=(IntSlider(value=1, description='d', max=1000, min=1), SelectionSlider(description='sigma…"
      ]
     },
     "metadata": {},
     "output_type": "display_data"
    }
   ],
   "source": [
    "def rff(d, sigma, n_plot, kernel):\n",
    "    Delta = np.linspace(-5, 5, 200)\n",
    "\n",
    "    # plot kernel\n",
    "    if kernel == 'RBF':\n",
    "        k = RBF(sigma)\n",
    "    elif kernel == 'Laplacian':\n",
    "        k = Laplacian(sigma)\n",
    "    else:\n",
    "        raise ValueError(\"Invalid kernel.\")\n",
    "    plt.plot(Delta, k(Delta), 'r-')\n",
    "    plt.ylabel('$k(\\Delta)$')\n",
    "    plt.xlabel('$\\Delta$')\n",
    "    \n",
    "    # generate and plot approximation\n",
    "    for _ in range(n_plot):\n",
    "        w, b = k.sample_rffs(d)\n",
    "        k_approx = np.zeros_like(Delta)\n",
    "        for i, Y in zip(range(len(k_approx)), Delta):\n",
    "            x = 0\n",
    "            y = -Y\n",
    "            zx = np.sqrt(2) / np.sqrt(d) * np.cos(w*x + b)\n",
    "            zy = np.sqrt(2) / np.sqrt(d) * np.cos(w*y + b)\n",
    "            k_approx[i] = np.dot(zx, zy)\n",
    "        plt.plot(Delta, k_approx, 'b-', linewidth=0.5)\n",
    "    \n",
    "    plt.xlim(-5,5)\n",
    "    plt.ylim(-0.2,1.3)\n",
    "\n",
    "interact(rff, d=IntSlider(min=1, max=1000, steps=10), sigma=SelectionSlider(options=[(\"%g\"%i,i) for i in np.linspace(0.1,1,10)], value=1), n_plot=IntSlider(min=1, max=100, steps=10, value=20), kernel=Dropdown(options=['RBF', 'Laplacian']));"
   ]
  }
 ],
 "metadata": {
  "kernelspec": {
   "display_name": "Python 3 (ipykernel)",
   "language": "python",
   "name": "python3"
  },
  "language_info": {
   "codemirror_mode": {
    "name": "ipython",
    "version": 3
   },
   "file_extension": ".py",
   "mimetype": "text/x-python",
   "name": "python",
   "nbconvert_exporter": "python",
   "pygments_lexer": "ipython3",
   "version": "3.9.7"
  }
 },
 "nbformat": 4,
 "nbformat_minor": 4
}
